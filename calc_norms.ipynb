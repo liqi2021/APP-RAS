{
 "cells": [
  {
   "cell_type": "markdown",
   "id": "f7521c39",
   "metadata": {},
   "source": [
    "# This notebook's goal is to calculate the mean of the different measures so we can normalize later on"
   ]
  },
  {
   "cell_type": "code",
   "execution_count": 1,
   "id": "b13ee106",
   "metadata": {},
   "outputs": [],
   "source": [
    "from configparser import Interpolation\n",
    "from tracemalloc import start\n",
    "# import lmdb\n",
    "import pandas as pd\n",
    "# import pyarrow as pa\n",
    "import numpy as np\n",
    "import time\n",
    "from torch.utils.data import Dataset,DataLoader\n",
    "import torchvision.transforms as T\n",
    "import torch\n",
    "from imgaug import augmenters as iaa\n",
    "from helper import RandomTransWrapper\n",
    "import h5py\n",
    "import glob"
   ]
  },
  {
   "cell_type": "code",
   "execution_count": 2,
   "id": "899e2653",
   "metadata": {
    "scrolled": true
   },
   "outputs": [],
   "source": [
    "data_dir = './data_withbrake/'\n",
    "data_list = glob.glob(data_dir+'*.h5')\n"
   ]
  },
  {
   "cell_type": "code",
   "execution_count": 3,
   "id": "dc0e6a8a",
   "metadata": {},
   "outputs": [],
   "source": [
    "all_d = np.empty((0,15))"
   ]
  },
  {
   "cell_type": "code",
   "execution_count": 4,
   "id": "d3be0792",
   "metadata": {},
   "outputs": [],
   "source": [
    "for i in range(12):\n",
    "    file_name = data_list[i] \n",
    "    with h5py.File(file_name, 'r') as h5_file:\n",
    "        all_d = np.concatenate((all_d, np.array(h5_file['others']).astype(np.float32)))"
   ]
  },
  {
   "cell_type": "code",
   "execution_count": 5,
   "id": "cb015781",
   "metadata": {},
   "outputs": [
    {
     "data": {
      "text/plain": [
       "(2272, 15)"
      ]
     },
     "execution_count": 5,
     "metadata": {},
     "output_type": "execute_result"
    }
   ],
   "source": [
    "all_d.shape"
   ]
  },
  {
   "cell_type": "code",
   "execution_count": 6,
   "id": "f0674a29",
   "metadata": {
    "scrolled": true
   },
   "outputs": [],
   "source": [
    "imu = all_d[:10,:]\n",
    "speed = all_d[10,:]\n",
    "steer = all_d[13,:]"
   ]
  },
  {
   "cell_type": "code",
   "execution_count": 7,
   "id": "adbf758e",
   "metadata": {},
   "outputs": [
    {
     "name": "stdout",
     "output_type": "stream",
     "text": [
      "-5.137040138244629\n",
      "13.177566528320312\n"
     ]
    }
   ],
   "source": [
    "speed_min = np.min(speed)\n",
    "speed_max = np.max(speed)\n",
    "print(speed_min)\n",
    "print(speed_max)"
   ]
  },
  {
   "cell_type": "code",
   "execution_count": 8,
   "id": "659f0f06",
   "metadata": {},
   "outputs": [
    {
     "name": "stdout",
     "output_type": "stream",
     "text": [
      "[-1.69137157e-02 -5.93055412e-03 -3.24095320e-03 -9.20971972e-04\n",
      " -5.17153597e+00 -1.02396202e+01 -1.48390427e-01 -7.01377913e-02\n",
      " -3.38135324e-02 -1.66577529e-02]\n",
      "[ 9.8419981  10.21207809 10.56573486 10.91194344 11.23107529 11.55004311\n",
      " 11.885849   12.21730995 12.54627323 12.87323761]\n"
     ]
    }
   ],
   "source": [
    "imu_min = np.min(imu,axis=1)\n",
    "imu_max = np.max(imu,axis=1)\n",
    "print(imu_min)\n",
    "print(imu_max)"
   ]
  },
  {
   "cell_type": "code",
   "execution_count": 9,
   "id": "6703e3ed",
   "metadata": {},
   "outputs": [
    {
     "name": "stdout",
     "output_type": "stream",
     "text": [
      "-6.344237327575684\n",
      "13.937631607055664\n"
     ]
    }
   ],
   "source": [
    "steer_min = np.min(steer)\n",
    "steer_max = np.max(steer)\n",
    "print(steer_min)\n",
    "print(steer_max)\n",
    "# [-90, +90]\n",
    "# norm = (x + 90)/180"
   ]
  },
  {
   "cell_type": "code",
   "execution_count": null,
   "id": "b2e6aa02",
   "metadata": {},
   "outputs": [],
   "source": []
  },
  {
   "cell_type": "code",
   "execution_count": null,
   "id": "3d08480d",
   "metadata": {},
   "outputs": [],
   "source": []
  }
 ],
 "metadata": {
  "kernelspec": {
   "display_name": "Python 3 (ipykernel)",
   "language": "python",
   "name": "python3"
  },
  "language_info": {
   "codemirror_mode": {
    "name": "ipython",
    "version": 3
   },
   "file_extension": ".py",
   "mimetype": "text/x-python",
   "name": "python",
   "nbconvert_exporter": "python",
   "pygments_lexer": "ipython3",
   "version": "3.8.10"
  }
 },
 "nbformat": 4,
 "nbformat_minor": 5
}
